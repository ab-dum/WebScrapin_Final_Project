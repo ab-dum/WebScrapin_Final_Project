{
 "cells": [
  {
   "cell_type": "code",
   "execution_count": 128,
   "id": "b98c92f3-3092-45d4-81fc-8e82503cf423",
   "metadata": {},
   "outputs": [],
   "source": [
    "# importing packages\n",
    "import pandas as pd\n",
    "import numpy as np\n",
    "import plotly.express as px\n",
    "import re\n",
    "import warnings\n",
    "import matplotlib.pyplot as plt\n",
    "import seaborn as sns\n",
    "\n",
    "warnings.filterwarnings(\"ignore\")\n"
   ]
  },
  {
   "cell_type": "code",
   "execution_count": 129,
   "id": "1a4fe87e-81bd-4b5f-a073-20f41f39188d",
   "metadata": {},
   "outputs": [],
   "source": [
    "# reading the data from git\n",
    "df = pd.read_csv(\"https://raw.githubusercontent.com/ab-dum/WebScraping_Final_Project/main/raw_data.csv\")"
   ]
  },
  {
   "cell_type": "code",
   "execution_count": 130,
   "id": "e421e685-2fbe-4054-8bdb-89dbf9569d20",
   "metadata": {},
   "outputs": [
    {
     "data": {
      "text/html": [
       "<div>\n",
       "<style scoped>\n",
       "    .dataframe tbody tr th:only-of-type {\n",
       "        vertical-align: middle;\n",
       "    }\n",
       "\n",
       "    .dataframe tbody tr th {\n",
       "        vertical-align: top;\n",
       "    }\n",
       "\n",
       "    .dataframe thead th {\n",
       "        text-align: right;\n",
       "    }\n",
       "</style>\n",
       "<table border=\"1\" class=\"dataframe\">\n",
       "  <thead>\n",
       "    <tr style=\"text-align: right;\">\n",
       "      <th></th>\n",
       "      <th>İlan Numarası</th>\n",
       "      <th>price</th>\n",
       "      <th>location</th>\n",
       "      <th>İlan Güncelleme Tarihi</th>\n",
       "      <th>Kategorisi</th>\n",
       "      <th>Net Metrekare</th>\n",
       "      <th>Oda Sayısı</th>\n",
       "      <th>Bulunduğu Kat</th>\n",
       "      <th>Isıtma Tipi</th>\n",
       "      <th>Krediye Uygunluk</th>\n",
       "      <th>...</th>\n",
       "      <th>Aidat</th>\n",
       "      <th>Banyo Metrekare</th>\n",
       "      <th>Balkon Metrekare</th>\n",
       "      <th>WC Metrekare</th>\n",
       "      <th>Salon Metrekare</th>\n",
       "      <th>Ada</th>\n",
       "      <th>Parsel</th>\n",
       "      <th>Pafta</th>\n",
       "      <th>Balkon Tipi Fransız Balkon</th>\n",
       "      <th>Balkon Tipi Kapalı Teras</th>\n",
       "    </tr>\n",
       "  </thead>\n",
       "  <tbody>\n",
       "    <tr>\n",
       "      <th>0</th>\n",
       "      <td>14426602</td>\n",
       "      <td>2,200,000TL</td>\n",
       "      <td>Antalya - Kepez - Yeni Emek Mahallesi</td>\n",
       "      <td>20 Aralık 2023</td>\n",
       "      <td>Satılık</td>\n",
       "      <td>100 M2</td>\n",
       "      <td>2+1</td>\n",
       "      <td>3.Kat</td>\n",
       "      <td>Klimalı</td>\n",
       "      <td>Krediye Uygun</td>\n",
       "      <td>...</td>\n",
       "      <td>NaN</td>\n",
       "      <td>NaN</td>\n",
       "      <td>NaN</td>\n",
       "      <td>NaN</td>\n",
       "      <td>NaN</td>\n",
       "      <td>NaN</td>\n",
       "      <td>NaN</td>\n",
       "      <td>NaN</td>\n",
       "      <td>NaN</td>\n",
       "      <td>NaN</td>\n",
       "    </tr>\n",
       "    <tr>\n",
       "      <th>1</th>\n",
       "      <td>14426397</td>\n",
       "      <td>2,200,000TL</td>\n",
       "      <td>Antalya - Kepez - Kuzeyyaka Mahallesi</td>\n",
       "      <td>20 Aralık 2023</td>\n",
       "      <td>Satılık</td>\n",
       "      <td>95 M2</td>\n",
       "      <td>2+1</td>\n",
       "      <td>2.Kat</td>\n",
       "      <td>Klimalı</td>\n",
       "      <td>Krediye Uygun</td>\n",
       "      <td>...</td>\n",
       "      <td>NaN</td>\n",
       "      <td>NaN</td>\n",
       "      <td>NaN</td>\n",
       "      <td>NaN</td>\n",
       "      <td>NaN</td>\n",
       "      <td>NaN</td>\n",
       "      <td>NaN</td>\n",
       "      <td>NaN</td>\n",
       "      <td>NaN</td>\n",
       "      <td>NaN</td>\n",
       "    </tr>\n",
       "    <tr>\n",
       "      <th>2</th>\n",
       "      <td>14426356</td>\n",
       "      <td>4,250,000TL</td>\n",
       "      <td>Antalya - Serik - Orta Mahallesi</td>\n",
       "      <td>20 Aralık 2023</td>\n",
       "      <td>Satılık</td>\n",
       "      <td>120 M2</td>\n",
       "      <td>3+1</td>\n",
       "      <td>1.Kat</td>\n",
       "      <td>Kombi Doğalgaz</td>\n",
       "      <td>Krediye Uygun</td>\n",
       "      <td>...</td>\n",
       "      <td>NaN</td>\n",
       "      <td>NaN</td>\n",
       "      <td>NaN</td>\n",
       "      <td>NaN</td>\n",
       "      <td>NaN</td>\n",
       "      <td>NaN</td>\n",
       "      <td>NaN</td>\n",
       "      <td>NaN</td>\n",
       "      <td>NaN</td>\n",
       "      <td>NaN</td>\n",
       "    </tr>\n",
       "    <tr>\n",
       "      <th>3</th>\n",
       "      <td>14418580</td>\n",
       "      <td>8,750,000TL</td>\n",
       "      <td>Antalya - Muratpaşa - Şirinyalı Mahallesi</td>\n",
       "      <td>20 Aralık 2023</td>\n",
       "      <td>Satılık</td>\n",
       "      <td>150 M2</td>\n",
       "      <td>3+1</td>\n",
       "      <td>7.Kat</td>\n",
       "      <td>Kombi Doğalgaz</td>\n",
       "      <td>Krediye Uygun</td>\n",
       "      <td>...</td>\n",
       "      <td>NaN</td>\n",
       "      <td>NaN</td>\n",
       "      <td>NaN</td>\n",
       "      <td>NaN</td>\n",
       "      <td>NaN</td>\n",
       "      <td>NaN</td>\n",
       "      <td>NaN</td>\n",
       "      <td>NaN</td>\n",
       "      <td>NaN</td>\n",
       "      <td>NaN</td>\n",
       "    </tr>\n",
       "    <tr>\n",
       "      <th>4</th>\n",
       "      <td>14416439</td>\n",
       "      <td>1,600,000TL</td>\n",
       "      <td>Antalya - Kepez - Teomanpaşa Mahallesi</td>\n",
       "      <td>18 Aralık 2023</td>\n",
       "      <td>Satılık</td>\n",
       "      <td>60 M2</td>\n",
       "      <td>1+1</td>\n",
       "      <td>Yüksek Giriş</td>\n",
       "      <td>Klimalı</td>\n",
       "      <td>Krediye Uygun Değil</td>\n",
       "      <td>...</td>\n",
       "      <td>NaN</td>\n",
       "      <td>NaN</td>\n",
       "      <td>NaN</td>\n",
       "      <td>NaN</td>\n",
       "      <td>NaN</td>\n",
       "      <td>NaN</td>\n",
       "      <td>NaN</td>\n",
       "      <td>NaN</td>\n",
       "      <td>NaN</td>\n",
       "      <td>NaN</td>\n",
       "    </tr>\n",
       "    <tr>\n",
       "      <th>...</th>\n",
       "      <td>...</td>\n",
       "      <td>...</td>\n",
       "      <td>...</td>\n",
       "      <td>...</td>\n",
       "      <td>...</td>\n",
       "      <td>...</td>\n",
       "      <td>...</td>\n",
       "      <td>...</td>\n",
       "      <td>...</td>\n",
       "      <td>...</td>\n",
       "      <td>...</td>\n",
       "      <td>...</td>\n",
       "      <td>...</td>\n",
       "      <td>...</td>\n",
       "      <td>...</td>\n",
       "      <td>...</td>\n",
       "      <td>...</td>\n",
       "      <td>...</td>\n",
       "      <td>...</td>\n",
       "      <td>...</td>\n",
       "      <td>...</td>\n",
       "    </tr>\n",
       "    <tr>\n",
       "      <th>415</th>\n",
       "      <td>14423598</td>\n",
       "      <td>1,950,000TL</td>\n",
       "      <td>Antalya - Kepez - Ayanoğlu Mahallesi</td>\n",
       "      <td>20 Aralık 2023</td>\n",
       "      <td>Satılık</td>\n",
       "      <td>60 M2</td>\n",
       "      <td>1+1</td>\n",
       "      <td>1.Kat</td>\n",
       "      <td>Klimalı</td>\n",
       "      <td>Krediye Uygun</td>\n",
       "      <td>...</td>\n",
       "      <td>NaN</td>\n",
       "      <td>NaN</td>\n",
       "      <td>NaN</td>\n",
       "      <td>NaN</td>\n",
       "      <td>NaN</td>\n",
       "      <td>NaN</td>\n",
       "      <td>NaN</td>\n",
       "      <td>NaN</td>\n",
       "      <td>NaN</td>\n",
       "      <td>NaN</td>\n",
       "    </tr>\n",
       "    <tr>\n",
       "      <th>416</th>\n",
       "      <td>14423597</td>\n",
       "      <td>1,530,000TL</td>\n",
       "      <td>Antalya - Kepez - Aydoğmuş Mahallesi</td>\n",
       "      <td>20 Aralık 2023</td>\n",
       "      <td>Satılık</td>\n",
       "      <td>70 M2</td>\n",
       "      <td>2+1</td>\n",
       "      <td>Yüksek Giriş</td>\n",
       "      <td>Isıtma Yok</td>\n",
       "      <td>Krediye Uygun</td>\n",
       "      <td>...</td>\n",
       "      <td>NaN</td>\n",
       "      <td>NaN</td>\n",
       "      <td>NaN</td>\n",
       "      <td>NaN</td>\n",
       "      <td>NaN</td>\n",
       "      <td>NaN</td>\n",
       "      <td>NaN</td>\n",
       "      <td>NaN</td>\n",
       "      <td>NaN</td>\n",
       "      <td>NaN</td>\n",
       "    </tr>\n",
       "    <tr>\n",
       "      <th>417</th>\n",
       "      <td>14423596</td>\n",
       "      <td>2,274,000TL</td>\n",
       "      <td>Antalya - Kepez - Kuzeyyaka Mahallesi</td>\n",
       "      <td>20 Aralık 2023</td>\n",
       "      <td>Satılık</td>\n",
       "      <td>125 M2</td>\n",
       "      <td>3+1</td>\n",
       "      <td>2.Kat</td>\n",
       "      <td>Klimalı</td>\n",
       "      <td>Krediye Uygun</td>\n",
       "      <td>...</td>\n",
       "      <td>NaN</td>\n",
       "      <td>NaN</td>\n",
       "      <td>NaN</td>\n",
       "      <td>NaN</td>\n",
       "      <td>NaN</td>\n",
       "      <td>NaN</td>\n",
       "      <td>NaN</td>\n",
       "      <td>NaN</td>\n",
       "      <td>NaN</td>\n",
       "      <td>NaN</td>\n",
       "    </tr>\n",
       "    <tr>\n",
       "      <th>418</th>\n",
       "      <td>14423591</td>\n",
       "      <td>2,070,000TL</td>\n",
       "      <td>Antalya - Kepez - Mehmet Akif Ersoy Mahallesi</td>\n",
       "      <td>20 Aralık 2023</td>\n",
       "      <td>Satılık</td>\n",
       "      <td>100 M2</td>\n",
       "      <td>2+1</td>\n",
       "      <td>1.Kat</td>\n",
       "      <td>Isıtma Yok</td>\n",
       "      <td>Krediye Uygun</td>\n",
       "      <td>...</td>\n",
       "      <td>NaN</td>\n",
       "      <td>NaN</td>\n",
       "      <td>NaN</td>\n",
       "      <td>NaN</td>\n",
       "      <td>NaN</td>\n",
       "      <td>NaN</td>\n",
       "      <td>NaN</td>\n",
       "      <td>NaN</td>\n",
       "      <td>NaN</td>\n",
       "      <td>NaN</td>\n",
       "    </tr>\n",
       "    <tr>\n",
       "      <th>419</th>\n",
       "      <td>14423586</td>\n",
       "      <td>2,600,000TL</td>\n",
       "      <td>Antalya - Kepez - Gazi Mahallesi</td>\n",
       "      <td>20 Aralık 2023</td>\n",
       "      <td>Satılık</td>\n",
       "      <td>100 M2</td>\n",
       "      <td>2+1</td>\n",
       "      <td>1.Kat</td>\n",
       "      <td>Isıtma Yok</td>\n",
       "      <td>Krediye Uygun</td>\n",
       "      <td>...</td>\n",
       "      <td>NaN</td>\n",
       "      <td>NaN</td>\n",
       "      <td>NaN</td>\n",
       "      <td>NaN</td>\n",
       "      <td>NaN</td>\n",
       "      <td>NaN</td>\n",
       "      <td>NaN</td>\n",
       "      <td>NaN</td>\n",
       "      <td>NaN</td>\n",
       "      <td>NaN</td>\n",
       "    </tr>\n",
       "  </tbody>\n",
       "</table>\n",
       "<p>420 rows × 44 columns</p>\n",
       "</div>"
      ],
      "text/plain": [
       "     İlan Numarası        price  \\\n",
       "0         14426602  2,200,000TL   \n",
       "1         14426397  2,200,000TL   \n",
       "2         14426356  4,250,000TL   \n",
       "3         14418580  8,750,000TL   \n",
       "4         14416439  1,600,000TL   \n",
       "..             ...          ...   \n",
       "415       14423598  1,950,000TL   \n",
       "416       14423597  1,530,000TL   \n",
       "417       14423596  2,274,000TL   \n",
       "418       14423591  2,070,000TL   \n",
       "419       14423586  2,600,000TL   \n",
       "\n",
       "                                          location İlan Güncelleme Tarihi  \\\n",
       "0            Antalya - Kepez - Yeni Emek Mahallesi         20 Aralık 2023   \n",
       "1            Antalya - Kepez - Kuzeyyaka Mahallesi         20 Aralık 2023   \n",
       "2                 Antalya - Serik - Orta Mahallesi         20 Aralık 2023   \n",
       "3        Antalya - Muratpaşa - Şirinyalı Mahallesi         20 Aralık 2023   \n",
       "4           Antalya - Kepez - Teomanpaşa Mahallesi         18 Aralık 2023   \n",
       "..                                             ...                    ...   \n",
       "415           Antalya - Kepez - Ayanoğlu Mahallesi         20 Aralık 2023   \n",
       "416           Antalya - Kepez - Aydoğmuş Mahallesi         20 Aralık 2023   \n",
       "417          Antalya - Kepez - Kuzeyyaka Mahallesi         20 Aralık 2023   \n",
       "418  Antalya - Kepez - Mehmet Akif Ersoy Mahallesi         20 Aralık 2023   \n",
       "419               Antalya - Kepez - Gazi Mahallesi         20 Aralık 2023   \n",
       "\n",
       "    Kategorisi Net Metrekare Oda Sayısı Bulunduğu Kat     Isıtma Tipi  \\\n",
       "0      Satılık        100 M2        2+1         3.Kat         Klimalı   \n",
       "1      Satılık         95 M2        2+1         2.Kat         Klimalı   \n",
       "2      Satılık        120 M2        3+1         1.Kat  Kombi Doğalgaz   \n",
       "3      Satılık        150 M2        3+1         7.Kat  Kombi Doğalgaz   \n",
       "4      Satılık         60 M2        1+1  Yüksek Giriş         Klimalı   \n",
       "..         ...           ...        ...           ...             ...   \n",
       "415    Satılık         60 M2        1+1         1.Kat         Klimalı   \n",
       "416    Satılık         70 M2        2+1  Yüksek Giriş      Isıtma Yok   \n",
       "417    Satılık        125 M2        3+1         2.Kat         Klimalı   \n",
       "418    Satılık        100 M2        2+1         1.Kat      Isıtma Yok   \n",
       "419    Satılık        100 M2        2+1         1.Kat      Isıtma Yok   \n",
       "\n",
       "        Krediye Uygunluk  ... Aidat Banyo Metrekare Balkon Metrekare  \\\n",
       "0          Krediye Uygun  ...   NaN             NaN              NaN   \n",
       "1          Krediye Uygun  ...   NaN             NaN              NaN   \n",
       "2          Krediye Uygun  ...   NaN             NaN              NaN   \n",
       "3          Krediye Uygun  ...   NaN             NaN              NaN   \n",
       "4    Krediye Uygun Değil  ...   NaN             NaN              NaN   \n",
       "..                   ...  ...   ...             ...              ...   \n",
       "415        Krediye Uygun  ...   NaN             NaN              NaN   \n",
       "416        Krediye Uygun  ...   NaN             NaN              NaN   \n",
       "417        Krediye Uygun  ...   NaN             NaN              NaN   \n",
       "418        Krediye Uygun  ...   NaN             NaN              NaN   \n",
       "419        Krediye Uygun  ...   NaN             NaN              NaN   \n",
       "\n",
       "    WC Metrekare  Salon Metrekare Ada Parsel Pafta Balkon Tipi Fransız Balkon  \\\n",
       "0            NaN              NaN NaN    NaN   NaN                        NaN   \n",
       "1            NaN              NaN NaN    NaN   NaN                        NaN   \n",
       "2            NaN              NaN NaN    NaN   NaN                        NaN   \n",
       "3            NaN              NaN NaN    NaN   NaN                        NaN   \n",
       "4            NaN              NaN NaN    NaN   NaN                        NaN   \n",
       "..           ...              ...  ..    ...   ...                        ...   \n",
       "415          NaN              NaN NaN    NaN   NaN                        NaN   \n",
       "416          NaN              NaN NaN    NaN   NaN                        NaN   \n",
       "417          NaN              NaN NaN    NaN   NaN                        NaN   \n",
       "418          NaN              NaN NaN    NaN   NaN                        NaN   \n",
       "419          NaN              NaN NaN    NaN   NaN                        NaN   \n",
       "\n",
       "    Balkon Tipi Kapalı Teras  \n",
       "0                        NaN  \n",
       "1                        NaN  \n",
       "2                        NaN  \n",
       "3                        NaN  \n",
       "4                        NaN  \n",
       "..                       ...  \n",
       "415                      NaN  \n",
       "416                      NaN  \n",
       "417                      NaN  \n",
       "418                      NaN  \n",
       "419                      NaN  \n",
       "\n",
       "[420 rows x 44 columns]"
      ]
     },
     "execution_count": 130,
     "metadata": {},
     "output_type": "execute_result"
    }
   ],
   "source": [
    "df"
   ]
  },
  {
   "cell_type": "code",
   "execution_count": 131,
   "id": "046b1dcf-1f1f-48ab-a536-a4ec94a5bd71",
   "metadata": {},
   "outputs": [
    {
     "data": {
      "text/html": [
       "<div>\n",
       "<style scoped>\n",
       "    .dataframe tbody tr th:only-of-type {\n",
       "        vertical-align: middle;\n",
       "    }\n",
       "\n",
       "    .dataframe tbody tr th {\n",
       "        vertical-align: top;\n",
       "    }\n",
       "\n",
       "    .dataframe thead th {\n",
       "        text-align: right;\n",
       "    }\n",
       "</style>\n",
       "<table border=\"1\" class=\"dataframe\">\n",
       "  <thead>\n",
       "    <tr style=\"text-align: right;\">\n",
       "      <th></th>\n",
       "      <th>Listing Number</th>\n",
       "      <th>Price</th>\n",
       "      <th>Location</th>\n",
       "      <th>Ad Update Date</th>\n",
       "      <th>Category</th>\n",
       "      <th>Net Area</th>\n",
       "      <th>Number of Rooms</th>\n",
       "      <th>Floor</th>\n",
       "      <th>Heating Type</th>\n",
       "      <th>Credit Eligibility</th>\n",
       "      <th>...</th>\n",
       "      <th>Dues</th>\n",
       "      <th>Bathroom Area</th>\n",
       "      <th>Balcony Area</th>\n",
       "      <th>WC Area</th>\n",
       "      <th>Living Room Area</th>\n",
       "      <th>Island</th>\n",
       "      <th>Parcel</th>\n",
       "      <th>Sheet</th>\n",
       "      <th>Balcony Type French Balcony</th>\n",
       "      <th>Balcony Type Closed Terrace</th>\n",
       "    </tr>\n",
       "  </thead>\n",
       "  <tbody>\n",
       "    <tr>\n",
       "      <th>0</th>\n",
       "      <td>14426602</td>\n",
       "      <td>2,200,000TL</td>\n",
       "      <td>Antalya - Kepez - Yeni Emek Mahallesi</td>\n",
       "      <td>2023-12-20</td>\n",
       "      <td>Satılık</td>\n",
       "      <td>100 M2</td>\n",
       "      <td>2+1</td>\n",
       "      <td>3</td>\n",
       "      <td>Air-conditioned</td>\n",
       "      <td>Eligible for Credit</td>\n",
       "      <td>...</td>\n",
       "      <td>NaN</td>\n",
       "      <td>NaN</td>\n",
       "      <td>NaN</td>\n",
       "      <td>NaN</td>\n",
       "      <td>NaN</td>\n",
       "      <td>NaN</td>\n",
       "      <td>NaN</td>\n",
       "      <td>NaN</td>\n",
       "      <td>NaN</td>\n",
       "      <td>NaN</td>\n",
       "    </tr>\n",
       "    <tr>\n",
       "      <th>1</th>\n",
       "      <td>14426397</td>\n",
       "      <td>2,200,000TL</td>\n",
       "      <td>Antalya - Kepez - Kuzeyyaka Mahallesi</td>\n",
       "      <td>2023-12-20</td>\n",
       "      <td>Satılık</td>\n",
       "      <td>95 M2</td>\n",
       "      <td>2+1</td>\n",
       "      <td>2</td>\n",
       "      <td>Air-conditioned</td>\n",
       "      <td>Eligible for Credit</td>\n",
       "      <td>...</td>\n",
       "      <td>NaN</td>\n",
       "      <td>NaN</td>\n",
       "      <td>NaN</td>\n",
       "      <td>NaN</td>\n",
       "      <td>NaN</td>\n",
       "      <td>NaN</td>\n",
       "      <td>NaN</td>\n",
       "      <td>NaN</td>\n",
       "      <td>NaN</td>\n",
       "      <td>NaN</td>\n",
       "    </tr>\n",
       "    <tr>\n",
       "      <th>2</th>\n",
       "      <td>14426356</td>\n",
       "      <td>4,250,000TL</td>\n",
       "      <td>Antalya - Serik - Orta Mahallesi</td>\n",
       "      <td>2023-12-20</td>\n",
       "      <td>Satılık</td>\n",
       "      <td>120 M2</td>\n",
       "      <td>3+1</td>\n",
       "      <td>1</td>\n",
       "      <td>Combination Natural Gas Heater</td>\n",
       "      <td>Eligible for Credit</td>\n",
       "      <td>...</td>\n",
       "      <td>NaN</td>\n",
       "      <td>NaN</td>\n",
       "      <td>NaN</td>\n",
       "      <td>NaN</td>\n",
       "      <td>NaN</td>\n",
       "      <td>NaN</td>\n",
       "      <td>NaN</td>\n",
       "      <td>NaN</td>\n",
       "      <td>NaN</td>\n",
       "      <td>NaN</td>\n",
       "    </tr>\n",
       "    <tr>\n",
       "      <th>3</th>\n",
       "      <td>14418580</td>\n",
       "      <td>8,750,000TL</td>\n",
       "      <td>Antalya - Muratpaşa - Şirinyalı Mahallesi</td>\n",
       "      <td>2023-12-20</td>\n",
       "      <td>Satılık</td>\n",
       "      <td>150 M2</td>\n",
       "      <td>3+1</td>\n",
       "      <td>7</td>\n",
       "      <td>Combination Natural Gas Heater</td>\n",
       "      <td>Eligible for Credit</td>\n",
       "      <td>...</td>\n",
       "      <td>NaN</td>\n",
       "      <td>NaN</td>\n",
       "      <td>NaN</td>\n",
       "      <td>NaN</td>\n",
       "      <td>NaN</td>\n",
       "      <td>NaN</td>\n",
       "      <td>NaN</td>\n",
       "      <td>NaN</td>\n",
       "      <td>NaN</td>\n",
       "      <td>NaN</td>\n",
       "    </tr>\n",
       "    <tr>\n",
       "      <th>4</th>\n",
       "      <td>14416439</td>\n",
       "      <td>1,600,000TL</td>\n",
       "      <td>Antalya - Kepez - Teomanpaşa Mahallesi</td>\n",
       "      <td>2023-12-18</td>\n",
       "      <td>Satılık</td>\n",
       "      <td>60 M2</td>\n",
       "      <td>1+1</td>\n",
       "      <td>Unknown</td>\n",
       "      <td>Air-conditioned</td>\n",
       "      <td>Not Eligible for Credit</td>\n",
       "      <td>...</td>\n",
       "      <td>NaN</td>\n",
       "      <td>NaN</td>\n",
       "      <td>NaN</td>\n",
       "      <td>NaN</td>\n",
       "      <td>NaN</td>\n",
       "      <td>NaN</td>\n",
       "      <td>NaN</td>\n",
       "      <td>NaN</td>\n",
       "      <td>NaN</td>\n",
       "      <td>NaN</td>\n",
       "    </tr>\n",
       "    <tr>\n",
       "      <th>...</th>\n",
       "      <td>...</td>\n",
       "      <td>...</td>\n",
       "      <td>...</td>\n",
       "      <td>...</td>\n",
       "      <td>...</td>\n",
       "      <td>...</td>\n",
       "      <td>...</td>\n",
       "      <td>...</td>\n",
       "      <td>...</td>\n",
       "      <td>...</td>\n",
       "      <td>...</td>\n",
       "      <td>...</td>\n",
       "      <td>...</td>\n",
       "      <td>...</td>\n",
       "      <td>...</td>\n",
       "      <td>...</td>\n",
       "      <td>...</td>\n",
       "      <td>...</td>\n",
       "      <td>...</td>\n",
       "      <td>...</td>\n",
       "      <td>...</td>\n",
       "    </tr>\n",
       "    <tr>\n",
       "      <th>415</th>\n",
       "      <td>14423598</td>\n",
       "      <td>1,950,000TL</td>\n",
       "      <td>Antalya - Kepez - Ayanoğlu Mahallesi</td>\n",
       "      <td>2023-12-20</td>\n",
       "      <td>Satılık</td>\n",
       "      <td>60 M2</td>\n",
       "      <td>1+1</td>\n",
       "      <td>1</td>\n",
       "      <td>Air-conditioned</td>\n",
       "      <td>Eligible for Credit</td>\n",
       "      <td>...</td>\n",
       "      <td>NaN</td>\n",
       "      <td>NaN</td>\n",
       "      <td>NaN</td>\n",
       "      <td>NaN</td>\n",
       "      <td>NaN</td>\n",
       "      <td>NaN</td>\n",
       "      <td>NaN</td>\n",
       "      <td>NaN</td>\n",
       "      <td>NaN</td>\n",
       "      <td>NaN</td>\n",
       "    </tr>\n",
       "    <tr>\n",
       "      <th>416</th>\n",
       "      <td>14423597</td>\n",
       "      <td>1,530,000TL</td>\n",
       "      <td>Antalya - Kepez - Aydoğmuş Mahallesi</td>\n",
       "      <td>2023-12-20</td>\n",
       "      <td>Satılık</td>\n",
       "      <td>70 M2</td>\n",
       "      <td>2+1</td>\n",
       "      <td>Unknown</td>\n",
       "      <td>No Heating</td>\n",
       "      <td>Eligible for Credit</td>\n",
       "      <td>...</td>\n",
       "      <td>NaN</td>\n",
       "      <td>NaN</td>\n",
       "      <td>NaN</td>\n",
       "      <td>NaN</td>\n",
       "      <td>NaN</td>\n",
       "      <td>NaN</td>\n",
       "      <td>NaN</td>\n",
       "      <td>NaN</td>\n",
       "      <td>NaN</td>\n",
       "      <td>NaN</td>\n",
       "    </tr>\n",
       "    <tr>\n",
       "      <th>417</th>\n",
       "      <td>14423596</td>\n",
       "      <td>2,274,000TL</td>\n",
       "      <td>Antalya - Kepez - Kuzeyyaka Mahallesi</td>\n",
       "      <td>2023-12-20</td>\n",
       "      <td>Satılık</td>\n",
       "      <td>125 M2</td>\n",
       "      <td>3+1</td>\n",
       "      <td>2</td>\n",
       "      <td>Air-conditioned</td>\n",
       "      <td>Eligible for Credit</td>\n",
       "      <td>...</td>\n",
       "      <td>NaN</td>\n",
       "      <td>NaN</td>\n",
       "      <td>NaN</td>\n",
       "      <td>NaN</td>\n",
       "      <td>NaN</td>\n",
       "      <td>NaN</td>\n",
       "      <td>NaN</td>\n",
       "      <td>NaN</td>\n",
       "      <td>NaN</td>\n",
       "      <td>NaN</td>\n",
       "    </tr>\n",
       "    <tr>\n",
       "      <th>418</th>\n",
       "      <td>14423591</td>\n",
       "      <td>2,070,000TL</td>\n",
       "      <td>Antalya - Kepez - Mehmet Akif Ersoy Mahallesi</td>\n",
       "      <td>2023-12-20</td>\n",
       "      <td>Satılık</td>\n",
       "      <td>100 M2</td>\n",
       "      <td>2+1</td>\n",
       "      <td>1</td>\n",
       "      <td>No Heating</td>\n",
       "      <td>Eligible for Credit</td>\n",
       "      <td>...</td>\n",
       "      <td>NaN</td>\n",
       "      <td>NaN</td>\n",
       "      <td>NaN</td>\n",
       "      <td>NaN</td>\n",
       "      <td>NaN</td>\n",
       "      <td>NaN</td>\n",
       "      <td>NaN</td>\n",
       "      <td>NaN</td>\n",
       "      <td>NaN</td>\n",
       "      <td>NaN</td>\n",
       "    </tr>\n",
       "    <tr>\n",
       "      <th>419</th>\n",
       "      <td>14423586</td>\n",
       "      <td>2,600,000TL</td>\n",
       "      <td>Antalya - Kepez - Gazi Mahallesi</td>\n",
       "      <td>2023-12-20</td>\n",
       "      <td>Satılık</td>\n",
       "      <td>100 M2</td>\n",
       "      <td>2+1</td>\n",
       "      <td>1</td>\n",
       "      <td>No Heating</td>\n",
       "      <td>Eligible for Credit</td>\n",
       "      <td>...</td>\n",
       "      <td>NaN</td>\n",
       "      <td>NaN</td>\n",
       "      <td>NaN</td>\n",
       "      <td>NaN</td>\n",
       "      <td>NaN</td>\n",
       "      <td>NaN</td>\n",
       "      <td>NaN</td>\n",
       "      <td>NaN</td>\n",
       "      <td>NaN</td>\n",
       "      <td>NaN</td>\n",
       "    </tr>\n",
       "  </tbody>\n",
       "</table>\n",
       "<p>420 rows × 44 columns</p>\n",
       "</div>"
      ],
      "text/plain": [
       "     Listing Number        Price  \\\n",
       "0          14426602  2,200,000TL   \n",
       "1          14426397  2,200,000TL   \n",
       "2          14426356  4,250,000TL   \n",
       "3          14418580  8,750,000TL   \n",
       "4          14416439  1,600,000TL   \n",
       "..              ...          ...   \n",
       "415        14423598  1,950,000TL   \n",
       "416        14423597  1,530,000TL   \n",
       "417        14423596  2,274,000TL   \n",
       "418        14423591  2,070,000TL   \n",
       "419        14423586  2,600,000TL   \n",
       "\n",
       "                                          Location Ad Update Date Category  \\\n",
       "0            Antalya - Kepez - Yeni Emek Mahallesi     2023-12-20  Satılık   \n",
       "1            Antalya - Kepez - Kuzeyyaka Mahallesi     2023-12-20  Satılık   \n",
       "2                 Antalya - Serik - Orta Mahallesi     2023-12-20  Satılık   \n",
       "3        Antalya - Muratpaşa - Şirinyalı Mahallesi     2023-12-20  Satılık   \n",
       "4           Antalya - Kepez - Teomanpaşa Mahallesi     2023-12-18  Satılık   \n",
       "..                                             ...            ...      ...   \n",
       "415           Antalya - Kepez - Ayanoğlu Mahallesi     2023-12-20  Satılık   \n",
       "416           Antalya - Kepez - Aydoğmuş Mahallesi     2023-12-20  Satılık   \n",
       "417          Antalya - Kepez - Kuzeyyaka Mahallesi     2023-12-20  Satılık   \n",
       "418  Antalya - Kepez - Mehmet Akif Ersoy Mahallesi     2023-12-20  Satılık   \n",
       "419               Antalya - Kepez - Gazi Mahallesi     2023-12-20  Satılık   \n",
       "\n",
       "    Net Area Number of Rooms    Floor                    Heating Type  \\\n",
       "0     100 M2             2+1        3                 Air-conditioned   \n",
       "1      95 M2             2+1        2                 Air-conditioned   \n",
       "2     120 M2             3+1        1  Combination Natural Gas Heater   \n",
       "3     150 M2             3+1        7  Combination Natural Gas Heater   \n",
       "4      60 M2             1+1  Unknown                 Air-conditioned   \n",
       "..       ...             ...      ...                             ...   \n",
       "415    60 M2             1+1        1                 Air-conditioned   \n",
       "416    70 M2             2+1  Unknown                      No Heating   \n",
       "417   125 M2             3+1        2                 Air-conditioned   \n",
       "418   100 M2             2+1        1                      No Heating   \n",
       "419   100 M2             2+1        1                      No Heating   \n",
       "\n",
       "          Credit Eligibility  ... Dues Bathroom Area Balcony Area WC Area  \\\n",
       "0        Eligible for Credit  ...  NaN           NaN          NaN     NaN   \n",
       "1        Eligible for Credit  ...  NaN           NaN          NaN     NaN   \n",
       "2        Eligible for Credit  ...  NaN           NaN          NaN     NaN   \n",
       "3        Eligible for Credit  ...  NaN           NaN          NaN     NaN   \n",
       "4    Not Eligible for Credit  ...  NaN           NaN          NaN     NaN   \n",
       "..                       ...  ...  ...           ...          ...     ...   \n",
       "415      Eligible for Credit  ...  NaN           NaN          NaN     NaN   \n",
       "416      Eligible for Credit  ...  NaN           NaN          NaN     NaN   \n",
       "417      Eligible for Credit  ...  NaN           NaN          NaN     NaN   \n",
       "418      Eligible for Credit  ...  NaN           NaN          NaN     NaN   \n",
       "419      Eligible for Credit  ...  NaN           NaN          NaN     NaN   \n",
       "\n",
       "     Living Room Area Island Parcel Sheet Balcony Type French Balcony  \\\n",
       "0                 NaN    NaN    NaN   NaN                         NaN   \n",
       "1                 NaN    NaN    NaN   NaN                         NaN   \n",
       "2                 NaN    NaN    NaN   NaN                         NaN   \n",
       "3                 NaN    NaN    NaN   NaN                         NaN   \n",
       "4                 NaN    NaN    NaN   NaN                         NaN   \n",
       "..                ...    ...    ...   ...                         ...   \n",
       "415               NaN    NaN    NaN   NaN                         NaN   \n",
       "416               NaN    NaN    NaN   NaN                         NaN   \n",
       "417               NaN    NaN    NaN   NaN                         NaN   \n",
       "418               NaN    NaN    NaN   NaN                         NaN   \n",
       "419               NaN    NaN    NaN   NaN                         NaN   \n",
       "\n",
       "    Balcony Type Closed Terrace  \n",
       "0                           NaN  \n",
       "1                           NaN  \n",
       "2                           NaN  \n",
       "3                           NaN  \n",
       "4                           NaN  \n",
       "..                          ...  \n",
       "415                         NaN  \n",
       "416                         NaN  \n",
       "417                         NaN  \n",
       "418                         NaN  \n",
       "419                         NaN  \n",
       "\n",
       "[420 rows x 44 columns]"
      ]
     },
     "execution_count": 131,
     "metadata": {},
     "output_type": "execute_result"
    }
   ],
   "source": [
    "# translating the Turkish columns to English (since there is no English version of web site)\n",
    "column_name_mapping = {\n",
    "    'İlan Numarası': 'Listing Number',\n",
    "    'price': 'Price',\n",
    "    'location': 'Location',\n",
    "    'İlan Güncelleme Tarihi': 'Ad Update Date',\n",
    "    'Kategorisi': 'Category',\n",
    "    'Net Metrekare': 'Net Area',\n",
    "    'Oda Sayısı': 'Number of Rooms',\n",
    "    'Bulunduğu Kat': 'Floor',\n",
    "    'Isıtma Tipi': 'Heating Type',\n",
    "    'Krediye Uygunluk': 'Credit Eligibility',\n",
    "    'Yapı Tipi': 'Building Type',\n",
    "    'Eşya Durumu': 'Furniture Condition',\n",
    "    'Banyo Sayısı': 'Number of Bathrooms',\n",
    "    'Balkon Sayısı': 'Number of Balconies',\n",
    "    'WC Sayısı': 'Number of WCs',\n",
    "    'İlan Oluşturma Tarihi': 'Ad Creation Date',\n",
    "    'Türü': 'Type',\n",
    "    'Tipi': 'Category',\n",
    "    'Brüt Metrekare': 'Gross Area',\n",
    "    'Binanın Yaşı': 'Building Age',\n",
    "    'Binanın Kat Sayısı': 'Number of Floors in Building',\n",
    "    'Kullanım Durumu': 'Usage Status',\n",
    "    'Yatırıma Uygunluk': 'Investment Eligibility',\n",
    "    'Site İçerisinde': 'Within the Site',\n",
    "    'Takas': 'Exchange',\n",
    "    'Balkon Durumu': 'Balcony Condition',\n",
    "    'Balkon Tipi': 'Balcony Type',\n",
    "    'Fiyat Durumu': 'Price Status',\n",
    "    'Tapu Durumu': 'Title Deed Status',\n",
    "    'İpotek Durumu': 'Mortgage Status',\n",
    "    'Kira Getirisi': 'Rental Income',\n",
    "    'Yapı Durumu': 'Building Condition',\n",
    "    'Zemin Etüdü': 'Soil Analysis',\n",
    "    'Görüntülü Gezilebilir mi?': 'Is it Visitable Virtually?',\n",
    "    'Aidat': 'Dues',\n",
    "    'Banyo Metrekare': 'Bathroom Area',\n",
    "    'Balkon Metrekare': 'Balcony Area',\n",
    "    'WC Metrekare': 'WC Area',\n",
    "    'Salon Metrekare': 'Living Room Area',\n",
    "    'Ada': 'Island',\n",
    "    'Parsel': 'Parcel',\n",
    "    'Pafta': 'Sheet',\n",
    "    'Balkon Tipi Fransız Balkon': 'Balcony Type French Balcony',\n",
    "    'Balkon Tipi Kapalı Teras': 'Balcony Type Closed Terrace'\n",
    "}\n",
    "\n",
    "df.rename(columns=column_name_mapping, inplace=True)\n",
    "\n",
    "# translating Turkish month names to English\n",
    "month_mapping = {\n",
    "    'Ocak': 'January', 'Şubat': 'February', 'Mart': 'March',\n",
    "    'Nisan': 'April', 'Mayıs': 'May', 'Haziran': 'June',\n",
    "    'Temmuz': 'July', 'Ağustos': 'August', 'Eylül': 'September',\n",
    "    'Ekim': 'October', 'Kasım': 'November', 'Aralık': 'December'\n",
    "}\n",
    "\n",
    "df['Ad Update Date'] = df['Ad Update Date'].replace(month_mapping, regex=True)\n",
    "\n",
    "\n",
    "# converting the 'Ad Update Date' column to datetime\n",
    "df['Ad Update Date'] = pd.to_datetime(df['Ad Update Date'], format='%d %B %Y', errors='coerce')\n",
    "\n",
    "# assigning the meanings of Turkish values to English meanings\n",
    "translation_dict = {\n",
    "    'Yüksek Giriş': 'High Entrance',\n",
    "    'Düz Giriş (Zemin)': 'Flat Entrance (Ground)',\n",
    "    'Villa Tipi': 'Villa Type',\n",
    "    'Çatı Dubleks': 'Roof Duplex',\n",
    "    'Bahçe Katı': 'Garden Floor',\n",
    "    'Bahçe Dubleks': 'Garden Duplex',\n",
    "    'Çatı Katı': 'Roof Floor',\n",
    "    'Betonarme': 'Reinforced Concrete',\n",
    "    'Ahşap': 'Wooden',\n",
    "    'Çelik': 'Steel',\n",
    "    'Eşyalı': 'Furnished',\n",
    "    'Boş': 'Empty',\n",
    "    'Klimalı': 'Air-conditioned',\n",
    "    'Kombi Doğalgaz': 'Combination Natural Gas Heater',\n",
    "    'Yerden Isıtma': 'Underfloor Heating',\n",
    "    'Merkezi (Pay Ölçer)': 'Central (Submeter)',\n",
    "    'Şömine': 'Fireplace',\n",
    "    'Isıtma Yok': 'No Heating',\n",
    "    'Sobalı': 'Stove-heated',\n",
    "    'Merkezi Doğalgaz': 'Central Natural Gas',\n",
    "    'Kat Kaloriferi': 'Floor Heating',\n",
    "    'Doğalgaz Sobalı': 'Natural Gas Stove',\n",
    "    'Güneş Enerjisi': 'Solar Energy',\n",
    "    'Krediye Uygun': 'Eligible for Credit',\n",
    "    'Krediye Uygun Değil': 'Not Eligible for Credit',\n",
    "    'Bilinmiyor': 'Unknown',\n",
    "    'Boş': 'Empty',\n",
    "    'Kiracı Oturuyor': 'Tenant Occupied',\n",
    "    'Mülk Sahibi Oturuyor': 'Owner Occupied',\n",
    "    'Yatırıma Uygun': 'Suitable for Investment'\n",
    "}\n",
    "\n",
    "# extracting numeric floor information from the 'Floor' column\n",
    "df['Floor'] = df['Floor'].apply(lambda x: re.search(r'\\d+', str(x)).group() if re.search(r'\\d+', str(x)) else 'Unknown')\n",
    "\n",
    "# translating Turkish expressions into English in the specified columns\n",
    "columns_to_translate = ['Heating Type', 'Credit Eligibility', 'Building Type',\n",
    "                        'Furniture Condition', 'Usage Status', 'Investment Eligibility']\n",
    "\n",
    "for column in columns_to_translate:\n",
    "    df[column] = df[column].map(translation_dict)\n",
    "\n",
    "df"
   ]
  },
  {
   "cell_type": "code",
   "execution_count": 132,
   "id": "536fb884-973b-4529-95ff-30699c8f077d",
   "metadata": {},
   "outputs": [
    {
     "data": {
      "text/plain": [
       "Index(['Listing Number', 'Price', 'Location', 'Ad Update Date', 'Category',\n",
       "       'Net Area', 'Number of Rooms', 'Floor', 'Heating Type',\n",
       "       'Credit Eligibility', 'Building Type', 'Furniture Condition',\n",
       "       'Number of Bathrooms', 'Number of Balconies', 'Number of WCs',\n",
       "       'Ad Creation Date', 'Type', 'Category', 'Gross Area', 'Building Age',\n",
       "       'Number of Floors in Building', 'Usage Status',\n",
       "       'Investment Eligibility', 'Within the Site', 'Exchange',\n",
       "       'Balcony Condition', 'Balcony Type', 'Price Status',\n",
       "       'Title Deed Status', 'Mortgage Status', 'Rental Income',\n",
       "       'Building Condition', 'Soil Analysis', 'Is it Visitable Virtually?',\n",
       "       'Dues', 'Bathroom Area', 'Balcony Area', 'WC Area', 'Living Room Area',\n",
       "       'Island', 'Parcel', 'Sheet', 'Balcony Type French Balcony',\n",
       "       'Balcony Type Closed Terrace'],\n",
       "      dtype='object')"
      ]
     },
     "execution_count": 132,
     "metadata": {},
     "output_type": "execute_result"
    }
   ],
   "source": [
    "df.columns"
   ]
  },
  {
   "cell_type": "code",
   "execution_count": 133,
   "id": "3374bfa5-9bc5-4141-816a-1b88bf127e08",
   "metadata": {},
   "outputs": [
    {
     "data": {
      "text/html": [
       "<div>\n",
       "<style scoped>\n",
       "    .dataframe tbody tr th:only-of-type {\n",
       "        vertical-align: middle;\n",
       "    }\n",
       "\n",
       "    .dataframe tbody tr th {\n",
       "        vertical-align: top;\n",
       "    }\n",
       "\n",
       "    .dataframe thead th {\n",
       "        text-align: right;\n",
       "    }\n",
       "</style>\n",
       "<table border=\"1\" class=\"dataframe\">\n",
       "  <thead>\n",
       "    <tr style=\"text-align: right;\">\n",
       "      <th></th>\n",
       "      <th>Listing Number</th>\n",
       "      <th>District</th>\n",
       "      <th>Price</th>\n",
       "      <th>Ad Update Date</th>\n",
       "      <th>Net Area</th>\n",
       "      <th>Number of Rooms</th>\n",
       "      <th>Floor</th>\n",
       "      <th>Heating Type</th>\n",
       "      <th>Credit Eligibility</th>\n",
       "      <th>Building Type</th>\n",
       "      <th>Furniture Condition</th>\n",
       "      <th>Number of Bathrooms</th>\n",
       "      <th>Number of Balconies</th>\n",
       "      <th>Number of WCs</th>\n",
       "      <th>Building Age</th>\n",
       "      <th>Number of Floors in Building</th>\n",
       "      <th>Usage Status</th>\n",
       "      <th>Investment Eligibility</th>\n",
       "    </tr>\n",
       "  </thead>\n",
       "  <tbody>\n",
       "    <tr>\n",
       "      <th>0</th>\n",
       "      <td>14426602</td>\n",
       "      <td>Kepez</td>\n",
       "      <td>2,200,000TL</td>\n",
       "      <td>2023-12-20</td>\n",
       "      <td>100 M2</td>\n",
       "      <td>2+1</td>\n",
       "      <td>3</td>\n",
       "      <td>Air-conditioned</td>\n",
       "      <td>Eligible for Credit</td>\n",
       "      <td>Reinforced Concrete</td>\n",
       "      <td>Furnished</td>\n",
       "      <td>1</td>\n",
       "      <td>2</td>\n",
       "      <td>1.0</td>\n",
       "      <td>11-15</td>\n",
       "      <td>3</td>\n",
       "      <td>Empty</td>\n",
       "      <td>Suitable for Investment</td>\n",
       "    </tr>\n",
       "    <tr>\n",
       "      <th>1</th>\n",
       "      <td>14426397</td>\n",
       "      <td>Kepez</td>\n",
       "      <td>2,200,000TL</td>\n",
       "      <td>2023-12-20</td>\n",
       "      <td>95 M2</td>\n",
       "      <td>2+1</td>\n",
       "      <td>2</td>\n",
       "      <td>Air-conditioned</td>\n",
       "      <td>Eligible for Credit</td>\n",
       "      <td>Reinforced Concrete</td>\n",
       "      <td>Empty</td>\n",
       "      <td>1</td>\n",
       "      <td>1</td>\n",
       "      <td>1.0</td>\n",
       "      <td>11-15</td>\n",
       "      <td>3</td>\n",
       "      <td>Tenant Occupied</td>\n",
       "      <td>Suitable for Investment</td>\n",
       "    </tr>\n",
       "    <tr>\n",
       "      <th>2</th>\n",
       "      <td>14426356</td>\n",
       "      <td>Serik</td>\n",
       "      <td>4,250,000TL</td>\n",
       "      <td>2023-12-20</td>\n",
       "      <td>120 M2</td>\n",
       "      <td>3+1</td>\n",
       "      <td>1</td>\n",
       "      <td>Combination Natural Gas Heater</td>\n",
       "      <td>Eligible for Credit</td>\n",
       "      <td>NaN</td>\n",
       "      <td>Empty</td>\n",
       "      <td>2</td>\n",
       "      <td>2</td>\n",
       "      <td>2.0</td>\n",
       "      <td>0 (Yeni)</td>\n",
       "      <td>5</td>\n",
       "      <td>Empty</td>\n",
       "      <td>NaN</td>\n",
       "    </tr>\n",
       "    <tr>\n",
       "      <th>3</th>\n",
       "      <td>14418580</td>\n",
       "      <td>Muratpaşa</td>\n",
       "      <td>8,750,000TL</td>\n",
       "      <td>2023-12-20</td>\n",
       "      <td>150 M2</td>\n",
       "      <td>3+1</td>\n",
       "      <td>7</td>\n",
       "      <td>Combination Natural Gas Heater</td>\n",
       "      <td>Eligible for Credit</td>\n",
       "      <td>Reinforced Concrete</td>\n",
       "      <td>Empty</td>\n",
       "      <td>1</td>\n",
       "      <td>2</td>\n",
       "      <td>2.0</td>\n",
       "      <td>16-20</td>\n",
       "      <td>12</td>\n",
       "      <td>Empty</td>\n",
       "      <td>Suitable for Investment</td>\n",
       "    </tr>\n",
       "    <tr>\n",
       "      <th>4</th>\n",
       "      <td>14416439</td>\n",
       "      <td>Kepez</td>\n",
       "      <td>1,600,000TL</td>\n",
       "      <td>2023-12-18</td>\n",
       "      <td>60 M2</td>\n",
       "      <td>1+1</td>\n",
       "      <td>Unknown</td>\n",
       "      <td>Air-conditioned</td>\n",
       "      <td>Not Eligible for Credit</td>\n",
       "      <td>NaN</td>\n",
       "      <td>Empty</td>\n",
       "      <td>1</td>\n",
       "      <td>NaN</td>\n",
       "      <td>NaN</td>\n",
       "      <td>0 (Yeni)</td>\n",
       "      <td>3</td>\n",
       "      <td>Empty</td>\n",
       "      <td>Unknown</td>\n",
       "    </tr>\n",
       "    <tr>\n",
       "      <th>...</th>\n",
       "      <td>...</td>\n",
       "      <td>...</td>\n",
       "      <td>...</td>\n",
       "      <td>...</td>\n",
       "      <td>...</td>\n",
       "      <td>...</td>\n",
       "      <td>...</td>\n",
       "      <td>...</td>\n",
       "      <td>...</td>\n",
       "      <td>...</td>\n",
       "      <td>...</td>\n",
       "      <td>...</td>\n",
       "      <td>...</td>\n",
       "      <td>...</td>\n",
       "      <td>...</td>\n",
       "      <td>...</td>\n",
       "      <td>...</td>\n",
       "      <td>...</td>\n",
       "    </tr>\n",
       "    <tr>\n",
       "      <th>415</th>\n",
       "      <td>14423598</td>\n",
       "      <td>Kepez</td>\n",
       "      <td>1,950,000TL</td>\n",
       "      <td>2023-12-20</td>\n",
       "      <td>60 M2</td>\n",
       "      <td>1+1</td>\n",
       "      <td>1</td>\n",
       "      <td>Air-conditioned</td>\n",
       "      <td>Eligible for Credit</td>\n",
       "      <td>NaN</td>\n",
       "      <td>Empty</td>\n",
       "      <td>1</td>\n",
       "      <td>NaN</td>\n",
       "      <td>NaN</td>\n",
       "      <td>0 (Yeni)</td>\n",
       "      <td>5</td>\n",
       "      <td>Empty</td>\n",
       "      <td>Unknown</td>\n",
       "    </tr>\n",
       "    <tr>\n",
       "      <th>416</th>\n",
       "      <td>14423597</td>\n",
       "      <td>Kepez</td>\n",
       "      <td>1,530,000TL</td>\n",
       "      <td>2023-12-20</td>\n",
       "      <td>70 M2</td>\n",
       "      <td>2+1</td>\n",
       "      <td>Unknown</td>\n",
       "      <td>No Heating</td>\n",
       "      <td>Eligible for Credit</td>\n",
       "      <td>NaN</td>\n",
       "      <td>Empty</td>\n",
       "      <td>1</td>\n",
       "      <td>NaN</td>\n",
       "      <td>NaN</td>\n",
       "      <td>1</td>\n",
       "      <td>2</td>\n",
       "      <td>Owner Occupied</td>\n",
       "      <td>Unknown</td>\n",
       "    </tr>\n",
       "    <tr>\n",
       "      <th>417</th>\n",
       "      <td>14423596</td>\n",
       "      <td>Kepez</td>\n",
       "      <td>2,274,000TL</td>\n",
       "      <td>2023-12-20</td>\n",
       "      <td>125 M2</td>\n",
       "      <td>3+1</td>\n",
       "      <td>2</td>\n",
       "      <td>Air-conditioned</td>\n",
       "      <td>Eligible for Credit</td>\n",
       "      <td>NaN</td>\n",
       "      <td>Empty</td>\n",
       "      <td>1</td>\n",
       "      <td>NaN</td>\n",
       "      <td>NaN</td>\n",
       "      <td>5-10</td>\n",
       "      <td>3</td>\n",
       "      <td>Owner Occupied</td>\n",
       "      <td>Unknown</td>\n",
       "    </tr>\n",
       "    <tr>\n",
       "      <th>418</th>\n",
       "      <td>14423591</td>\n",
       "      <td>Kepez</td>\n",
       "      <td>2,070,000TL</td>\n",
       "      <td>2023-12-20</td>\n",
       "      <td>100 M2</td>\n",
       "      <td>2+1</td>\n",
       "      <td>1</td>\n",
       "      <td>No Heating</td>\n",
       "      <td>Eligible for Credit</td>\n",
       "      <td>NaN</td>\n",
       "      <td>Empty</td>\n",
       "      <td>1</td>\n",
       "      <td>NaN</td>\n",
       "      <td>NaN</td>\n",
       "      <td>5-10</td>\n",
       "      <td>3</td>\n",
       "      <td>Owner Occupied</td>\n",
       "      <td>Unknown</td>\n",
       "    </tr>\n",
       "    <tr>\n",
       "      <th>419</th>\n",
       "      <td>14423586</td>\n",
       "      <td>Kepez</td>\n",
       "      <td>2,600,000TL</td>\n",
       "      <td>2023-12-20</td>\n",
       "      <td>100 M2</td>\n",
       "      <td>2+1</td>\n",
       "      <td>1</td>\n",
       "      <td>No Heating</td>\n",
       "      <td>Eligible for Credit</td>\n",
       "      <td>NaN</td>\n",
       "      <td>Empty</td>\n",
       "      <td>1</td>\n",
       "      <td>NaN</td>\n",
       "      <td>NaN</td>\n",
       "      <td>0 (Yeni)</td>\n",
       "      <td>3</td>\n",
       "      <td>Empty</td>\n",
       "      <td>Unknown</td>\n",
       "    </tr>\n",
       "  </tbody>\n",
       "</table>\n",
       "<p>420 rows × 18 columns</p>\n",
       "</div>"
      ],
      "text/plain": [
       "     Listing Number   District        Price Ad Update Date Net Area  \\\n",
       "0          14426602      Kepez  2,200,000TL     2023-12-20   100 M2   \n",
       "1          14426397      Kepez  2,200,000TL     2023-12-20    95 M2   \n",
       "2          14426356      Serik  4,250,000TL     2023-12-20   120 M2   \n",
       "3          14418580  Muratpaşa  8,750,000TL     2023-12-20   150 M2   \n",
       "4          14416439      Kepez  1,600,000TL     2023-12-18    60 M2   \n",
       "..              ...        ...          ...            ...      ...   \n",
       "415        14423598      Kepez  1,950,000TL     2023-12-20    60 M2   \n",
       "416        14423597      Kepez  1,530,000TL     2023-12-20    70 M2   \n",
       "417        14423596      Kepez  2,274,000TL     2023-12-20   125 M2   \n",
       "418        14423591      Kepez  2,070,000TL     2023-12-20   100 M2   \n",
       "419        14423586      Kepez  2,600,000TL     2023-12-20   100 M2   \n",
       "\n",
       "    Number of Rooms    Floor                    Heating Type  \\\n",
       "0               2+1        3                 Air-conditioned   \n",
       "1               2+1        2                 Air-conditioned   \n",
       "2               3+1        1  Combination Natural Gas Heater   \n",
       "3               3+1        7  Combination Natural Gas Heater   \n",
       "4               1+1  Unknown                 Air-conditioned   \n",
       "..              ...      ...                             ...   \n",
       "415             1+1        1                 Air-conditioned   \n",
       "416             2+1  Unknown                      No Heating   \n",
       "417             3+1        2                 Air-conditioned   \n",
       "418             2+1        1                      No Heating   \n",
       "419             2+1        1                      No Heating   \n",
       "\n",
       "          Credit Eligibility        Building Type Furniture Condition  \\\n",
       "0        Eligible for Credit  Reinforced Concrete           Furnished   \n",
       "1        Eligible for Credit  Reinforced Concrete               Empty   \n",
       "2        Eligible for Credit                  NaN               Empty   \n",
       "3        Eligible for Credit  Reinforced Concrete               Empty   \n",
       "4    Not Eligible for Credit                  NaN               Empty   \n",
       "..                       ...                  ...                 ...   \n",
       "415      Eligible for Credit                  NaN               Empty   \n",
       "416      Eligible for Credit                  NaN               Empty   \n",
       "417      Eligible for Credit                  NaN               Empty   \n",
       "418      Eligible for Credit                  NaN               Empty   \n",
       "419      Eligible for Credit                  NaN               Empty   \n",
       "\n",
       "    Number of Bathrooms Number of Balconies  Number of WCs Building Age  \\\n",
       "0                     1                   2            1.0        11-15   \n",
       "1                     1                   1            1.0        11-15   \n",
       "2                     2                   2            2.0     0 (Yeni)   \n",
       "3                     1                   2            2.0        16-20   \n",
       "4                     1                 NaN            NaN     0 (Yeni)   \n",
       "..                  ...                 ...            ...          ...   \n",
       "415                   1                 NaN            NaN     0 (Yeni)   \n",
       "416                   1                 NaN            NaN            1   \n",
       "417                   1                 NaN            NaN         5-10   \n",
       "418                   1                 NaN            NaN         5-10   \n",
       "419                   1                 NaN            NaN     0 (Yeni)   \n",
       "\n",
       "     Number of Floors in Building     Usage Status   Investment Eligibility  \n",
       "0                               3            Empty  Suitable for Investment  \n",
       "1                               3  Tenant Occupied  Suitable for Investment  \n",
       "2                               5            Empty                      NaN  \n",
       "3                              12            Empty  Suitable for Investment  \n",
       "4                               3            Empty                  Unknown  \n",
       "..                            ...              ...                      ...  \n",
       "415                             5            Empty                  Unknown  \n",
       "416                             2   Owner Occupied                  Unknown  \n",
       "417                             3   Owner Occupied                  Unknown  \n",
       "418                             3   Owner Occupied                  Unknown  \n",
       "419                             3            Empty                  Unknown  \n",
       "\n",
       "[420 rows x 18 columns]"
      ]
     },
     "execution_count": 133,
     "metadata": {},
     "output_type": "execute_result"
    }
   ],
   "source": [
    "# extracting just the Districts from the Location column (extracting the value in the middle)\n",
    "df['District'] = df['Location'].str.split('-').str[1].str.strip()\n",
    "\n",
    "# choosing the columns we are interested in\n",
    "selected_columns = ['Listing Number', 'District', 'Price', 'Ad Update Date', 'Net Area', 'Number of Rooms',\n",
    "                    'Floor', 'Heating Type', 'Credit Eligibility', 'Building Type', 'Furniture Condition',\n",
    "                     'Number of Bathrooms', 'Number of Balconies', 'Number of WCs','Building Age',\n",
    "                     'Number of Floors in Building', 'Usage Status',\n",
    "                     'Investment Eligibility']\n",
    "\n",
    "\n",
    "# assigning the selected columns\n",
    "df = df[selected_columns]\n",
    "\n",
    "# showing the updated DataFrame\n",
    "df\n"
   ]
  },
  {
   "cell_type": "code",
   "execution_count": 134,
   "id": "05c7bccb-c7d0-46bd-8301-10d46242a175",
   "metadata": {},
   "outputs": [
    {
     "name": "stdout",
     "output_type": "stream",
     "text": [
      "District\n",
      "Aksu           7490.581496\n",
      "Alanya        19444.622383\n",
      "Döşemealtı    11269.007853\n",
      "Finike         3412.108228\n",
      "Gazipaşa       3762.700738\n",
      "Kaş            9276.206688\n",
      "Kemer          8543.477838\n",
      "Kepez          3905.887889\n",
      "Konyaaltı      4559.680726\n",
      "Kumluca        2754.266895\n",
      "Manavgat      19406.231761\n",
      "Muratpaşa     10752.988253\n",
      "Serik         35828.294703\n",
      "Name: Price per m2, dtype: object\n"
     ]
    }
   ],
   "source": [
    "# removing non-numeric characters from 'Price' and 'Net Area' columns using .loc\n",
    "df.loc[:, 'Price'] = df['Price'].replace('[\\D]', '', regex=True).astype(float)\n",
    "df.loc[:, 'Net Area'] = df['Net Area'].replace('[\\D]', '', regex=True).astype(float)\n",
    "\n",
    "# calculating price per square meter\n",
    "df[\"Price per m2\"] = df[\"Price\"] / df[\"Net Area\"]\n",
    "\n",
    "# group by District and calculate average price per square meter\n",
    "avg_price_per_m2 = df.groupby(\"District\")[\"Price per m2\"].mean()\n",
    "\n",
    "# displaying average price per square meter for each District\n",
    "print(avg_price_per_m2)\n"
   ]
  },
  {
   "cell_type": "code",
   "execution_count": 135,
   "id": "7397cfef-6afa-4e2e-a0d0-1ab83e5a9084",
   "metadata": {},
   "outputs": [
    {
     "data": {
      "application/vnd.plotly.v1+json": {
       "config": {
        "plotlyServerURL": "https://plot.ly"
       },
       "data": [
        {
         "alignmentgroup": "True",
         "hovertemplate": "District=%{x}<br>Average Price per m2=%{y}<extra></extra>",
         "legendgroup": "",
         "marker": {
          "color": "#636efa",
          "pattern": {
           "shape": ""
          }
         },
         "name": "",
         "offsetgroup": "",
         "orientation": "v",
         "showlegend": false,
         "textposition": "outside",
         "texttemplate": "%{y:.2f}",
         "type": "bar",
         "x": [
          "Aksu",
          "Alanya",
          "Döşemealtı",
          "Finike",
          "Gazipaşa",
          "Kaş",
          "Kemer",
          "Kepez",
          "Konyaaltı",
          "Kumluca",
          "Manavgat",
          "Muratpaşa",
          "Serik"
         ],
         "xaxis": "x",
         "y": [
          7490.581496459014,
          19444.622383286558,
          11269.007853406503,
          3412.1082279577167,
          3762.700738434168,
          9276.206687979451,
          8543.477838084873,
          3905.8878887751025,
          4559.680725901895,
          2754.266895228158,
          19406.231761335912,
          10752.98825266721,
          35828.2947032546
         ],
         "yaxis": "y"
        }
       ],
       "layout": {
        "bargap": 0.1,
        "barmode": "relative",
        "height": 600,
        "legend": {
         "tracegroupgap": 0
        },
        "plot_bgcolor": "white",
        "template": {
         "data": {
          "bar": [
           {
            "error_x": {
             "color": "#2a3f5f"
            },
            "error_y": {
             "color": "#2a3f5f"
            },
            "marker": {
             "line": {
              "color": "#E5ECF6",
              "width": 0.5
             },
             "pattern": {
              "fillmode": "overlay",
              "size": 10,
              "solidity": 0.2
             }
            },
            "type": "bar"
           }
          ],
          "barpolar": [
           {
            "marker": {
             "line": {
              "color": "#E5ECF6",
              "width": 0.5
             },
             "pattern": {
              "fillmode": "overlay",
              "size": 10,
              "solidity": 0.2
             }
            },
            "type": "barpolar"
           }
          ],
          "carpet": [
           {
            "aaxis": {
             "endlinecolor": "#2a3f5f",
             "gridcolor": "white",
             "linecolor": "white",
             "minorgridcolor": "white",
             "startlinecolor": "#2a3f5f"
            },
            "baxis": {
             "endlinecolor": "#2a3f5f",
             "gridcolor": "white",
             "linecolor": "white",
             "minorgridcolor": "white",
             "startlinecolor": "#2a3f5f"
            },
            "type": "carpet"
           }
          ],
          "choropleth": [
           {
            "colorbar": {
             "outlinewidth": 0,
             "ticks": ""
            },
            "type": "choropleth"
           }
          ],
          "contour": [
           {
            "colorbar": {
             "outlinewidth": 0,
             "ticks": ""
            },
            "colorscale": [
             [
              0,
              "#0d0887"
             ],
             [
              0.1111111111111111,
              "#46039f"
             ],
             [
              0.2222222222222222,
              "#7201a8"
             ],
             [
              0.3333333333333333,
              "#9c179e"
             ],
             [
              0.4444444444444444,
              "#bd3786"
             ],
             [
              0.5555555555555556,
              "#d8576b"
             ],
             [
              0.6666666666666666,
              "#ed7953"
             ],
             [
              0.7777777777777778,
              "#fb9f3a"
             ],
             [
              0.8888888888888888,
              "#fdca26"
             ],
             [
              1,
              "#f0f921"
             ]
            ],
            "type": "contour"
           }
          ],
          "contourcarpet": [
           {
            "colorbar": {
             "outlinewidth": 0,
             "ticks": ""
            },
            "type": "contourcarpet"
           }
          ],
          "heatmap": [
           {
            "colorbar": {
             "outlinewidth": 0,
             "ticks": ""
            },
            "colorscale": [
             [
              0,
              "#0d0887"
             ],
             [
              0.1111111111111111,
              "#46039f"
             ],
             [
              0.2222222222222222,
              "#7201a8"
             ],
             [
              0.3333333333333333,
              "#9c179e"
             ],
             [
              0.4444444444444444,
              "#bd3786"
             ],
             [
              0.5555555555555556,
              "#d8576b"
             ],
             [
              0.6666666666666666,
              "#ed7953"
             ],
             [
              0.7777777777777778,
              "#fb9f3a"
             ],
             [
              0.8888888888888888,
              "#fdca26"
             ],
             [
              1,
              "#f0f921"
             ]
            ],
            "type": "heatmap"
           }
          ],
          "heatmapgl": [
           {
            "colorbar": {
             "outlinewidth": 0,
             "ticks": ""
            },
            "colorscale": [
             [
              0,
              "#0d0887"
             ],
             [
              0.1111111111111111,
              "#46039f"
             ],
             [
              0.2222222222222222,
              "#7201a8"
             ],
             [
              0.3333333333333333,
              "#9c179e"
             ],
             [
              0.4444444444444444,
              "#bd3786"
             ],
             [
              0.5555555555555556,
              "#d8576b"
             ],
             [
              0.6666666666666666,
              "#ed7953"
             ],
             [
              0.7777777777777778,
              "#fb9f3a"
             ],
             [
              0.8888888888888888,
              "#fdca26"
             ],
             [
              1,
              "#f0f921"
             ]
            ],
            "type": "heatmapgl"
           }
          ],
          "histogram": [
           {
            "marker": {
             "pattern": {
              "fillmode": "overlay",
              "size": 10,
              "solidity": 0.2
             }
            },
            "type": "histogram"
           }
          ],
          "histogram2d": [
           {
            "colorbar": {
             "outlinewidth": 0,
             "ticks": ""
            },
            "colorscale": [
             [
              0,
              "#0d0887"
             ],
             [
              0.1111111111111111,
              "#46039f"
             ],
             [
              0.2222222222222222,
              "#7201a8"
             ],
             [
              0.3333333333333333,
              "#9c179e"
             ],
             [
              0.4444444444444444,
              "#bd3786"
             ],
             [
              0.5555555555555556,
              "#d8576b"
             ],
             [
              0.6666666666666666,
              "#ed7953"
             ],
             [
              0.7777777777777778,
              "#fb9f3a"
             ],
             [
              0.8888888888888888,
              "#fdca26"
             ],
             [
              1,
              "#f0f921"
             ]
            ],
            "type": "histogram2d"
           }
          ],
          "histogram2dcontour": [
           {
            "colorbar": {
             "outlinewidth": 0,
             "ticks": ""
            },
            "colorscale": [
             [
              0,
              "#0d0887"
             ],
             [
              0.1111111111111111,
              "#46039f"
             ],
             [
              0.2222222222222222,
              "#7201a8"
             ],
             [
              0.3333333333333333,
              "#9c179e"
             ],
             [
              0.4444444444444444,
              "#bd3786"
             ],
             [
              0.5555555555555556,
              "#d8576b"
             ],
             [
              0.6666666666666666,
              "#ed7953"
             ],
             [
              0.7777777777777778,
              "#fb9f3a"
             ],
             [
              0.8888888888888888,
              "#fdca26"
             ],
             [
              1,
              "#f0f921"
             ]
            ],
            "type": "histogram2dcontour"
           }
          ],
          "mesh3d": [
           {
            "colorbar": {
             "outlinewidth": 0,
             "ticks": ""
            },
            "type": "mesh3d"
           }
          ],
          "parcoords": [
           {
            "line": {
             "colorbar": {
              "outlinewidth": 0,
              "ticks": ""
             }
            },
            "type": "parcoords"
           }
          ],
          "pie": [
           {
            "automargin": true,
            "type": "pie"
           }
          ],
          "scatter": [
           {
            "fillpattern": {
             "fillmode": "overlay",
             "size": 10,
             "solidity": 0.2
            },
            "type": "scatter"
           }
          ],
          "scatter3d": [
           {
            "line": {
             "colorbar": {
              "outlinewidth": 0,
              "ticks": ""
             }
            },
            "marker": {
             "colorbar": {
              "outlinewidth": 0,
              "ticks": ""
             }
            },
            "type": "scatter3d"
           }
          ],
          "scattercarpet": [
           {
            "marker": {
             "colorbar": {
              "outlinewidth": 0,
              "ticks": ""
             }
            },
            "type": "scattercarpet"
           }
          ],
          "scattergeo": [
           {
            "marker": {
             "colorbar": {
              "outlinewidth": 0,
              "ticks": ""
             }
            },
            "type": "scattergeo"
           }
          ],
          "scattergl": [
           {
            "marker": {
             "colorbar": {
              "outlinewidth": 0,
              "ticks": ""
             }
            },
            "type": "scattergl"
           }
          ],
          "scattermapbox": [
           {
            "marker": {
             "colorbar": {
              "outlinewidth": 0,
              "ticks": ""
             }
            },
            "type": "scattermapbox"
           }
          ],
          "scatterpolar": [
           {
            "marker": {
             "colorbar": {
              "outlinewidth": 0,
              "ticks": ""
             }
            },
            "type": "scatterpolar"
           }
          ],
          "scatterpolargl": [
           {
            "marker": {
             "colorbar": {
              "outlinewidth": 0,
              "ticks": ""
             }
            },
            "type": "scatterpolargl"
           }
          ],
          "scatterternary": [
           {
            "marker": {
             "colorbar": {
              "outlinewidth": 0,
              "ticks": ""
             }
            },
            "type": "scatterternary"
           }
          ],
          "surface": [
           {
            "colorbar": {
             "outlinewidth": 0,
             "ticks": ""
            },
            "colorscale": [
             [
              0,
              "#0d0887"
             ],
             [
              0.1111111111111111,
              "#46039f"
             ],
             [
              0.2222222222222222,
              "#7201a8"
             ],
             [
              0.3333333333333333,
              "#9c179e"
             ],
             [
              0.4444444444444444,
              "#bd3786"
             ],
             [
              0.5555555555555556,
              "#d8576b"
             ],
             [
              0.6666666666666666,
              "#ed7953"
             ],
             [
              0.7777777777777778,
              "#fb9f3a"
             ],
             [
              0.8888888888888888,
              "#fdca26"
             ],
             [
              1,
              "#f0f921"
             ]
            ],
            "type": "surface"
           }
          ],
          "table": [
           {
            "cells": {
             "fill": {
              "color": "#EBF0F8"
             },
             "line": {
              "color": "white"
             }
            },
            "header": {
             "fill": {
              "color": "#C8D4E3"
             },
             "line": {
              "color": "white"
             }
            },
            "type": "table"
           }
          ]
         },
         "layout": {
          "annotationdefaults": {
           "arrowcolor": "#2a3f5f",
           "arrowhead": 0,
           "arrowwidth": 1
          },
          "autotypenumbers": "strict",
          "coloraxis": {
           "colorbar": {
            "outlinewidth": 0,
            "ticks": ""
           }
          },
          "colorscale": {
           "diverging": [
            [
             0,
             "#8e0152"
            ],
            [
             0.1,
             "#c51b7d"
            ],
            [
             0.2,
             "#de77ae"
            ],
            [
             0.3,
             "#f1b6da"
            ],
            [
             0.4,
             "#fde0ef"
            ],
            [
             0.5,
             "#f7f7f7"
            ],
            [
             0.6,
             "#e6f5d0"
            ],
            [
             0.7,
             "#b8e186"
            ],
            [
             0.8,
             "#7fbc41"
            ],
            [
             0.9,
             "#4d9221"
            ],
            [
             1,
             "#276419"
            ]
           ],
           "sequential": [
            [
             0,
             "#0d0887"
            ],
            [
             0.1111111111111111,
             "#46039f"
            ],
            [
             0.2222222222222222,
             "#7201a8"
            ],
            [
             0.3333333333333333,
             "#9c179e"
            ],
            [
             0.4444444444444444,
             "#bd3786"
            ],
            [
             0.5555555555555556,
             "#d8576b"
            ],
            [
             0.6666666666666666,
             "#ed7953"
            ],
            [
             0.7777777777777778,
             "#fb9f3a"
            ],
            [
             0.8888888888888888,
             "#fdca26"
            ],
            [
             1,
             "#f0f921"
            ]
           ],
           "sequentialminus": [
            [
             0,
             "#0d0887"
            ],
            [
             0.1111111111111111,
             "#46039f"
            ],
            [
             0.2222222222222222,
             "#7201a8"
            ],
            [
             0.3333333333333333,
             "#9c179e"
            ],
            [
             0.4444444444444444,
             "#bd3786"
            ],
            [
             0.5555555555555556,
             "#d8576b"
            ],
            [
             0.6666666666666666,
             "#ed7953"
            ],
            [
             0.7777777777777778,
             "#fb9f3a"
            ],
            [
             0.8888888888888888,
             "#fdca26"
            ],
            [
             1,
             "#f0f921"
            ]
           ]
          },
          "colorway": [
           "#636efa",
           "#EF553B",
           "#00cc96",
           "#ab63fa",
           "#FFA15A",
           "#19d3f3",
           "#FF6692",
           "#B6E880",
           "#FF97FF",
           "#FECB52"
          ],
          "font": {
           "color": "#2a3f5f"
          },
          "geo": {
           "bgcolor": "white",
           "lakecolor": "white",
           "landcolor": "#E5ECF6",
           "showlakes": true,
           "showland": true,
           "subunitcolor": "white"
          },
          "hoverlabel": {
           "align": "left"
          },
          "hovermode": "closest",
          "mapbox": {
           "style": "light"
          },
          "paper_bgcolor": "white",
          "plot_bgcolor": "#E5ECF6",
          "polar": {
           "angularaxis": {
            "gridcolor": "white",
            "linecolor": "white",
            "ticks": ""
           },
           "bgcolor": "#E5ECF6",
           "radialaxis": {
            "gridcolor": "white",
            "linecolor": "white",
            "ticks": ""
           }
          },
          "scene": {
           "xaxis": {
            "backgroundcolor": "#E5ECF6",
            "gridcolor": "white",
            "gridwidth": 2,
            "linecolor": "white",
            "showbackground": true,
            "ticks": "",
            "zerolinecolor": "white"
           },
           "yaxis": {
            "backgroundcolor": "#E5ECF6",
            "gridcolor": "white",
            "gridwidth": 2,
            "linecolor": "white",
            "showbackground": true,
            "ticks": "",
            "zerolinecolor": "white"
           },
           "zaxis": {
            "backgroundcolor": "#E5ECF6",
            "gridcolor": "white",
            "gridwidth": 2,
            "linecolor": "white",
            "showbackground": true,
            "ticks": "",
            "zerolinecolor": "white"
           }
          },
          "shapedefaults": {
           "line": {
            "color": "#2a3f5f"
           }
          },
          "ternary": {
           "aaxis": {
            "gridcolor": "white",
            "linecolor": "white",
            "ticks": ""
           },
           "baxis": {
            "gridcolor": "white",
            "linecolor": "white",
            "ticks": ""
           },
           "bgcolor": "#E5ECF6",
           "caxis": {
            "gridcolor": "white",
            "linecolor": "white",
            "ticks": ""
           }
          },
          "title": {
           "x": 0.05
          },
          "xaxis": {
           "automargin": true,
           "gridcolor": "white",
           "linecolor": "white",
           "ticks": "",
           "title": {
            "standoff": 15
           },
           "zerolinecolor": "white",
           "zerolinewidth": 2
          },
          "yaxis": {
           "automargin": true,
           "gridcolor": "white",
           "linecolor": "white",
           "ticks": "",
           "title": {
            "standoff": 15
           },
           "zerolinecolor": "white",
           "zerolinewidth": 2
          }
         }
        },
        "title": {
         "text": "Average Price per Square Meter by District",
         "x": 0.5
        },
        "width": 1000,
        "xaxis": {
         "anchor": "y",
         "autorange": true,
         "domain": [
          0,
          1
         ],
         "range": [
          -0.5,
          12.5
         ],
         "title": {
          "text": ""
         },
         "type": "category"
        },
        "yaxis": {
         "anchor": "x",
         "autorange": true,
         "domain": [
          0,
          1
         ],
         "range": [
          0,
          37713.99442447853
         ],
         "showticklabels": false,
         "ticks": "",
         "title": {
          "text": ""
         },
         "type": "linear"
        }
       }
      },
      "image/png": "[encoded data removed]",
      "text/html": [
       "<div>                            <div id=\"be2a6db6-d2d4-4101-8d5a-b5bf77df26a5\" class=\"plotly-graph-div\" style=\"height:600px; width:1000px;\"></div>            <script type=\"text/javascript\">                require([\"plotly\"], function(Plotly) {                    window.PLOTLYENV=window.PLOTLYENV || {};                                    if (document.getElementById(\"be2a6db6-d2d4-4101-8d5a-b5bf77df26a5\")) {                    Plotly.newPlot(                        \"be2a6db6-d2d4-4101-8d5a-b5bf77df26a5\",                        [{\"alignmentgroup\":\"True\",\"hovertemplate\":\"District=%{x}\\u003cbr\\u003eAverage Price per m2=%{y}\\u003cextra\\u003e\\u003c\\u002fextra\\u003e\",\"legendgroup\":\"\",\"marker\":{\"color\":\"#636efa\",\"pattern\":{\"shape\":\"\"}},\"name\":\"\",\"offsetgroup\":\"\",\"orientation\":\"v\",\"showlegend\":false,\"textposition\":\"outside\",\"x\":[\"Aksu\",\"Alanya\",\"D\\u00f6\\u015femealt\\u0131\",\"Finike\",\"Gazipa\\u015fa\",\"Ka\\u015f\",\"Kemer\",\"Kepez\",\"Konyaalt\\u0131\",\"Kumluca\",\"Manavgat\",\"Muratpa\\u015fa\",\"Serik\"],\"xaxis\":\"x\",\"y\":[7490.581496459014,19444.622383286558,11269.007853406503,3412.1082279577167,3762.700738434168,9276.206687979451,8543.477838084873,3905.8878887751025,4559.680725901895,2754.266895228158,19406.231761335912,10752.98825266721,35828.2947032546],\"yaxis\":\"y\",\"type\":\"bar\",\"texttemplate\":\"%{y:.2f}\"}],                        {\"template\":{\"data\":{\"histogram2dcontour\":[{\"type\":\"histogram2dcontour\",\"colorbar\":{\"outlinewidth\":0,\"ticks\":\"\"},\"colorscale\":[[0.0,\"#0d0887\"],[0.1111111111111111,\"#46039f\"],[0.2222222222222222,\"#7201a8\"],[0.3333333333333333,\"#9c179e\"],[0.4444444444444444,\"#bd3786\"],[0.5555555555555556,\"#d8576b\"],[0.6666666666666666,\"#ed7953\"],[0.7777777777777778,\"#fb9f3a\"],[0.8888888888888888,\"#fdca26\"],[1.0,\"#f0f921\"]]}],\"choropleth\":[{\"type\":\"choropleth\",\"colorbar\":{\"outlinewidth\":0,\"ticks\":\"\"}}],\"histogram2d\":[{\"type\":\"histogram2d\",\"colorbar\":{\"outlinewidth\":0,\"ticks\":\"\"},\"colorscale\":[[0.0,\"#0d0887\"],[0.1111111111111111,\"#46039f\"],[0.2222222222222222,\"#7201a8\"],[0.3333333333333333,\"#9c179e\"],[0.4444444444444444,\"#bd3786\"],[0.5555555555555556,\"#d8576b\"],[0.6666666666666666,\"#ed7953\"],[0.7777777777777778,\"#fb9f3a\"],[0.8888888888888888,\"#fdca26\"],[1.0,\"#f0f921\"]]}],\"heatmap\":[{\"type\":\"heatmap\",\"colorbar\":{\"outlinewidth\":0,\"ticks\":\"\"},\"colorscale\":[[0.0,\"#0d0887\"],[0.1111111111111111,\"#46039f\"],[0.2222222222222222,\"#7201a8\"],[0.3333333333333333,\"#9c179e\"],[0.4444444444444444,\"#bd3786\"],[0.5555555555555556,\"#d8576b\"],[0.6666666666666666,\"#ed7953\"],[0.7777777777777778,\"#fb9f3a\"],[0.8888888888888888,\"#fdca26\"],[1.0,\"#f0f921\"]]}],\"heatmapgl\":[{\"type\":\"heatmapgl\",\"colorbar\":{\"outlinewidth\":0,\"ticks\":\"\"},\"colorscale\":[[0.0,\"#0d0887\"],[0.1111111111111111,\"#46039f\"],[0.2222222222222222,\"#7201a8\"],[0.3333333333333333,\"#9c179e\"],[0.4444444444444444,\"#bd3786\"],[0.5555555555555556,\"#d8576b\"],[0.6666666666666666,\"#ed7953\"],[0.7777777777777778,\"#fb9f3a\"],[0.8888888888888888,\"#fdca26\"],[1.0,\"#f0f921\"]]}],\"contourcarpet\":[{\"type\":\"contourcarpet\",\"colorbar\":{\"outlinewidth\":0,\"ticks\":\"\"}}],\"contour\":[{\"type\":\"contour\",\"colorbar\":{\"outlinewidth\":0,\"ticks\":\"\"},\"colorscale\":[[0.0,\"#0d0887\"],[0.1111111111111111,\"#46039f\"],[0.2222222222222222,\"#7201a8\"],[0.3333333333333333,\"#9c179e\"],[0.4444444444444444,\"#bd3786\"],[0.5555555555555556,\"#d8576b\"],[0.6666666666666666,\"#ed7953\"],[0.7777777777777778,\"#fb9f3a\"],[0.8888888888888888,\"#fdca26\"],[1.0,\"#f0f921\"]]}],\"surface\":[{\"type\":\"surface\",\"colorbar\":{\"outlinewidth\":0,\"ticks\":\"\"},\"colorscale\":[[0.0,\"#0d0887\"],[0.1111111111111111,\"#46039f\"],[0.2222222222222222,\"#7201a8\"],[0.3333333333333333,\"#9c179e\"],[0.4444444444444444,\"#bd3786\"],[0.5555555555555556,\"#d8576b\"],[0.6666666666666666,\"#ed7953\"],[0.7777777777777778,\"#fb9f3a\"],[0.8888888888888888,\"#fdca26\"],[1.0,\"#f0f921\"]]}],\"mesh3d\":[{\"type\":\"mesh3d\",\"colorbar\":{\"outlinewidth\":0,\"ticks\":\"\"}}],\"scatter\":[{\"fillpattern\":{\"fillmode\":\"overlay\",\"size\":10,\"solidity\":0.2},\"type\":\"scatter\"}],\"parcoords\":[{\"type\":\"parcoords\",\"line\":{\"colorbar\":{\"outlinewidth\":0,\"ticks\":\"\"}}}],\"scatterpolargl\":[{\"type\":\"scatterpolargl\",\"marker\":{\"colorbar\":{\"outlinewidth\":0,\"ticks\":\"\"}}}],\"bar\":[{\"error_x\":{\"color\":\"#2a3f5f\"},\"error_y\":{\"color\":\"#2a3f5f\"},\"marker\":{\"line\":{\"color\":\"#E5ECF6\",\"width\":0.5},\"pattern\":{\"fillmode\":\"overlay\",\"size\":10,\"solidity\":0.2}},\"type\":\"bar\"}],\"scattergeo\":[{\"type\":\"scattergeo\",\"marker\":{\"colorbar\":{\"outlinewidth\":0,\"ticks\":\"\"}}}],\"scatterpolar\":[{\"type\":\"scatterpolar\",\"marker\":{\"colorbar\":{\"outlinewidth\":0,\"ticks\":\"\"}}}],\"histogram\":[{\"marker\":{\"pattern\":{\"fillmode\":\"overlay\",\"size\":10,\"solidity\":0.2}},\"type\":\"histogram\"}],\"scattergl\":[{\"type\":\"scattergl\",\"marker\":{\"colorbar\":{\"outlinewidth\":0,\"ticks\":\"\"}}}],\"scatter3d\":[{\"type\":\"scatter3d\",\"line\":{\"colorbar\":{\"outlinewidth\":0,\"ticks\":\"\"}},\"marker\":{\"colorbar\":{\"outlinewidth\":0,\"ticks\":\"\"}}}],\"scattermapbox\":[{\"type\":\"scattermapbox\",\"marker\":{\"colorbar\":{\"outlinewidth\":0,\"ticks\":\"\"}}}],\"scatterternary\":[{\"type\":\"scatterternary\",\"marker\":{\"colorbar\":{\"outlinewidth\":0,\"ticks\":\"\"}}}],\"scattercarpet\":[{\"type\":\"scattercarpet\",\"marker\":{\"colorbar\":{\"outlinewidth\":0,\"ticks\":\"\"}}}],\"carpet\":[{\"aaxis\":{\"endlinecolor\":\"#2a3f5f\",\"gridcolor\":\"white\",\"linecolor\":\"white\",\"minorgridcolor\":\"white\",\"startlinecolor\":\"#2a3f5f\"},\"baxis\":{\"endlinecolor\":\"#2a3f5f\",\"gridcolor\":\"white\",\"linecolor\":\"white\",\"minorgridcolor\":\"white\",\"startlinecolor\":\"#2a3f5f\"},\"type\":\"carpet\"}],\"table\":[{\"cells\":{\"fill\":{\"color\":\"#EBF0F8\"},\"line\":{\"color\":\"white\"}},\"header\":{\"fill\":{\"color\":\"#C8D4E3\"},\"line\":{\"color\":\"white\"}},\"type\":\"table\"}],\"barpolar\":[{\"marker\":{\"line\":{\"color\":\"#E5ECF6\",\"width\":0.5},\"pattern\":{\"fillmode\":\"overlay\",\"size\":10,\"solidity\":0.2}},\"type\":\"barpolar\"}],\"pie\":[{\"automargin\":true,\"type\":\"pie\"}]},\"layout\":{\"autotypenumbers\":\"strict\",\"colorway\":[\"#636efa\",\"#EF553B\",\"#00cc96\",\"#ab63fa\",\"#FFA15A\",\"#19d3f3\",\"#FF6692\",\"#B6E880\",\"#FF97FF\",\"#FECB52\"],\"font\":{\"color\":\"#2a3f5f\"},\"hovermode\":\"closest\",\"hoverlabel\":{\"align\":\"left\"},\"paper_bgcolor\":\"white\",\"plot_bgcolor\":\"#E5ECF6\",\"polar\":{\"bgcolor\":\"#E5ECF6\",\"angularaxis\":{\"gridcolor\":\"white\",\"linecolor\":\"white\",\"ticks\":\"\"},\"radialaxis\":{\"gridcolor\":\"white\",\"linecolor\":\"white\",\"ticks\":\"\"}},\"ternary\":{\"bgcolor\":\"#E5ECF6\",\"aaxis\":{\"gridcolor\":\"white\",\"linecolor\":\"white\",\"ticks\":\"\"},\"baxis\":{\"gridcolor\":\"white\",\"linecolor\":\"white\",\"ticks\":\"\"},\"caxis\":{\"gridcolor\":\"white\",\"linecolor\":\"white\",\"ticks\":\"\"}},\"coloraxis\":{\"colorbar\":{\"outlinewidth\":0,\"ticks\":\"\"}},\"colorscale\":{\"sequential\":[[0.0,\"#0d0887\"],[0.1111111111111111,\"#46039f\"],[0.2222222222222222,\"#7201a8\"],[0.3333333333333333,\"#9c179e\"],[0.4444444444444444,\"#bd3786\"],[0.5555555555555556,\"#d8576b\"],[0.6666666666666666,\"#ed7953\"],[0.7777777777777778,\"#fb9f3a\"],[0.8888888888888888,\"#fdca26\"],[1.0,\"#f0f921\"]],\"sequentialminus\":[[0.0,\"#0d0887\"],[0.1111111111111111,\"#46039f\"],[0.2222222222222222,\"#7201a8\"],[0.3333333333333333,\"#9c179e\"],[0.4444444444444444,\"#bd3786\"],[0.5555555555555556,\"#d8576b\"],[0.6666666666666666,\"#ed7953\"],[0.7777777777777778,\"#fb9f3a\"],[0.8888888888888888,\"#fdca26\"],[1.0,\"#f0f921\"]],\"diverging\":[[0,\"#8e0152\"],[0.1,\"#c51b7d\"],[0.2,\"#de77ae\"],[0.3,\"#f1b6da\"],[0.4,\"#fde0ef\"],[0.5,\"#f7f7f7\"],[0.6,\"#e6f5d0\"],[0.7,\"#b8e186\"],[0.8,\"#7fbc41\"],[0.9,\"#4d9221\"],[1,\"#276419\"]]},\"xaxis\":{\"gridcolor\":\"white\",\"linecolor\":\"white\",\"ticks\":\"\",\"title\":{\"standoff\":15},\"zerolinecolor\":\"white\",\"automargin\":true,\"zerolinewidth\":2},\"yaxis\":{\"gridcolor\":\"white\",\"linecolor\":\"white\",\"ticks\":\"\",\"title\":{\"standoff\":15},\"zerolinecolor\":\"white\",\"automargin\":true,\"zerolinewidth\":2},\"scene\":{\"xaxis\":{\"backgroundcolor\":\"#E5ECF6\",\"gridcolor\":\"white\",\"linecolor\":\"white\",\"showbackground\":true,\"ticks\":\"\",\"zerolinecolor\":\"white\",\"gridwidth\":2},\"yaxis\":{\"backgroundcolor\":\"#E5ECF6\",\"gridcolor\":\"white\",\"linecolor\":\"white\",\"showbackground\":true,\"ticks\":\"\",\"zerolinecolor\":\"white\",\"gridwidth\":2},\"zaxis\":{\"backgroundcolor\":\"#E5ECF6\",\"gridcolor\":\"white\",\"linecolor\":\"white\",\"showbackground\":true,\"ticks\":\"\",\"zerolinecolor\":\"white\",\"gridwidth\":2}},\"shapedefaults\":{\"line\":{\"color\":\"#2a3f5f\"}},\"annotationdefaults\":{\"arrowcolor\":\"#2a3f5f\",\"arrowhead\":0,\"arrowwidth\":1},\"geo\":{\"bgcolor\":\"white\",\"landcolor\":\"#E5ECF6\",\"subunitcolor\":\"white\",\"showland\":true,\"showlakes\":true,\"lakecolor\":\"white\"},\"title\":{\"x\":0.05},\"mapbox\":{\"style\":\"light\"}}},\"xaxis\":{\"anchor\":\"y\",\"domain\":[0.0,1.0],\"title\":{\"text\":\"\"}},\"yaxis\":{\"anchor\":\"x\",\"domain\":[0.0,1.0],\"title\":{\"text\":\"\"},\"ticks\":\"\",\"showticklabels\":false},\"legend\":{\"tracegroupgap\":0},\"title\":{\"text\":\"Average Price per Square Meter by District\",\"x\":0.5},\"barmode\":\"relative\",\"height\":600,\"width\":1000,\"plot_bgcolor\":\"white\",\"bargap\":0.1},                        {\"responsive\": true}                    ).then(function(){\n",
       "                            \n",
       "var gd = document.getElementById('be2a6db6-d2d4-4101-8d5a-b5bf77df26a5');\n",
       "var x = new MutationObserver(function (mutations, observer) {{\n",
       "        var display = window.getComputedStyle(gd).display;\n",
       "        if (!display || display === 'none') {{\n",
       "            console.log([gd, 'removed!']);\n",
       "            Plotly.purge(gd);\n",
       "            observer.disconnect();\n",
       "        }}\n",
       "}});\n",
       "\n",
       "// Listen for the removal of the full notebook cells\n",
       "var notebookContainer = gd.closest('#notebook-container');\n",
       "if (notebookContainer) {{\n",
       "    x.observe(notebookContainer, {childList: true});\n",
       "}}\n",
       "\n",
       "// Listen for the clearing of the current output cell\n",
       "var outputEl = gd.closest('.output');\n",
       "if (outputEl) {{\n",
       "    x.observe(outputEl, {childList: true});\n",
       "}}\n",
       "\n",
       "                        })                };                });            </script>        </div>"
      ]
     },
     "metadata": {},
     "output_type": "display_data"
    }
   ],
   "source": [
    "# converting the result to a DataFrame for Plotly Express\n",
    "df_avg_price = avg_price_per_m2.reset_index(name='Average Price per m2')\n",
    "\n",
    "# plotting by using Plotly Express\n",
    "fig = px.bar(df_avg_price, x='District', y='Average Price per m2',\n",
    "             title='Average Price per Square Meter by District',\n",
    "             labels={'Average Price per m2': 'Average Price per m2'},\n",
    "             height=600, width=1000)  \n",
    "\n",
    "# customizing the appearance\n",
    "fig.update_layout(\n",
    "    xaxis_title='',  # removing x-axis title\n",
    "    yaxis_title='',  # removing y-axis title\n",
    "    title_x=0.5,  # center the title\n",
    "    plot_bgcolor='white',  # setting background color to white\n",
    ")\n",
    "\n",
    "# removing y-axis ticks and labels\n",
    "fig.update_yaxes(ticks='', showticklabels=False)\n",
    "\n",
    "# showing the values on top of the bars\n",
    "fig.update_traces(texttemplate='%{y:.2f}', textposition='outside')\n",
    "\n",
    "# center the plot\n",
    "fig.update_layout(bargap=0.1)  \n",
    "\n",
    "# showing the plot\n",
    "fig.show()"
   ]
  },
  {
   "cell_type": "markdown",
   "id": "82a02efb-c5c9-47e1-a7f2-546ba722ad3f",
   "metadata": {},
   "source": [
    "* As can be seen in this plot, Serik, Alanya and Manavgat districts are the districts with the highest prices per m2, respectively. Kumluca, Finike and Gazipaşa districts are seen as the districts with the lowest m2 price."
   ]
  },
  {
   "cell_type": "code",
   "execution_count": 136,
   "id": "3f004d84-4086-4e65-953f-9c1a36ddb189",
   "metadata": {},
   "outputs": [
    {
     "data": {
      "image/png": "[encoded data removed]",
      "text/plain": [
       "<Figure size 1000x600 with 1 Axes>"
      ]
     },
     "metadata": {},
     "output_type": "display_data"
    }
   ],
   "source": [
    "# filling out the null values with \"Unkown\"\n",
    "df[\"Heating Type\"] = df[\"Heating Type\"].fillna(\"Unknown\")\n",
    "\n",
    "# group by district according to their heating type\n",
    "heating_counts = df.groupby([\"District\", \"Heating Type\"]).size().unstack()\n",
    "\n",
    "# creating color palette by using Seaborn\n",
    "colors = sns.color_palette(\"husl\", n_colors=len(heating_counts.columns))\n",
    "\n",
    "# creating clustered bar chart\n",
    "fig, ax = plt.subplots(figsize=(10, 6))\n",
    "heating_counts.plot(kind='barh', stacked=True, ax=ax, color=colors)\n",
    "ax.set_xlabel('Count')\n",
    "ax.set_ylabel('District')\n",
    "ax.set_title('Heating Types by District')\n",
    "ax.legend(title='Heating Type', bbox_to_anchor=(1, 1))\n",
    "#showing the chart\n",
    "plt.show()"
   ]
  },
  {
   "cell_type": "markdown",
   "id": "a1cc9bc8-aafa-4c13-b614-ba4782c68b60",
   "metadata": {},
   "source": [
    "* As can be seen from the figure, the most used heating type in all districts of Antalya is air conditioner. It is followed by combitaniton natural gas heater. In addition, although Antalya is a region that receives a lot of sun, it is noteworthy that the rate of solar energy used in homes is lower than other types of heating."
   ]
  },
  {
   "cell_type": "code",
   "execution_count": 137,
   "id": "ae0a188e-e21d-4867-b07c-e7fe5f047e43",
   "metadata": {},
   "outputs": [],
   "source": [
    "# converting the \"Floor\" column to numeric format\n",
    "df['Floor'] = pd.to_numeric(df['Floor'], errors='coerce')"
   ]
  },
  {
   "cell_type": "code",
   "execution_count": 138,
   "id": "888f0e8d-0ce4-4e43-94b1-600e345f06ce",
   "metadata": {},
   "outputs": [
    {
     "data": {
      "image/png": "[encoded data removed]",
      "text/plain": [
       "<Figure size 1200x800 with 1 Axes>"
      ]
     },
     "metadata": {},
     "output_type": "display_data"
    }
   ],
   "source": [
    "# creating grouped bar chart by using Seaborn\n",
    "plt.figure(figsize=(12, 8))\n",
    "sns.barplot(data=df, x=\"Floor\", y=\"Price\", hue=\"Furniture Condition\", estimator=sum, ci=None)\n",
    "\n",
    "# customizing the chart\n",
    "plt.xlabel('Floor')\n",
    "plt.ylabel('Price (TL)')\n",
    "plt.title('Grouped Bar Chart of Floor vs. Price - Furniture Condition')\n",
    "plt.legend(title='Furniture Condition')\n",
    "\n",
    "# showing the chart\n",
    "plt.show()"
   ]
  },
  {
   "cell_type": "markdown",
   "id": "801baf70-9e52-482a-a2cd-835a84699660",
   "metadata": {},
   "source": [
    "- From this graph, it can be said that the prices of the furnished houses on the 1st floor and the furnished houses on the 2nd floor are higher than the others. It can also be clearly seen that the price decreases as the number of floors increases."
   ]
  }
 ],
 "metadata": {
  "kernelspec": {
   "display_name": "Python 3 (ipykernel)",
   "language": "python",
   "name": "python3"
  },
  "language_info": {
   "codemirror_mode": {
    "name": "ipython",
    "version": 3
   },
   "file_extension": ".py",
   "mimetype": "text/x-python",
   "name": "python",
   "nbconvert_exporter": "python",
   "pygments_lexer": "ipython3",
   "version": "3.11.5"
  }
 },
 "nbformat": 4,
 "nbformat_minor": 5
}
